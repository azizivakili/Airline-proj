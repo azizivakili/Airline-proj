{
 "cells": [
  {
   "cell_type": "code",
   "execution_count": 67,
   "id": "0feb59c9",
   "metadata": {},
   "outputs": [
    {
     "name": "stderr",
     "output_type": "stream",
     "text": [
      "/tmp/ipykernel_148941/946766355.py:8: UserWarning: Could not infer format, so each element will be parsed individually, falling back to `dateutil`. To ensure parsing is consistent and as-expected, please specify a format.\n",
      "  df['Arrival_Time'] = pd.to_datetime(df['Arrival_Time']).dt.strftime('%H:%M')\n",
      "/tmp/ipykernel_148941/946766355.py:9: UserWarning: Could not infer format, so each element will be parsed individually, falling back to `dateutil`. To ensure parsing is consistent and as-expected, please specify a format.\n",
      "  df['Departure_Time'] = pd.to_datetime(df['Departure_Time']).dt.strftime('%H:%M')\n"
     ]
    }
   ],
   "source": [
    "import pandas as pd\n",
    "\n",
    "# Load data to clean\n",
    "\n",
    "df = pd.read_csv(\"Final-data.csv\")\n",
    "\n",
    "# Convert the Arrival_Time to 24-hour format\n",
    "df['Arrival_Time'] = pd.to_datetime(df['Arrival_Time']).dt.strftime('%H:%M')\n",
    "df['Departure_Time'] = pd.to_datetime(df['Departure_Time']).dt.strftime('%H:%M')\n",
    "\n"
   ]
  },
  {
   "cell_type": "code",
   "execution_count": 68,
   "id": "b315ec4e",
   "metadata": {},
   "outputs": [],
   "source": [
    "# Drop unnecessary colums\n",
    "\n",
    "columns_to_drop = ['Estimated ArrivalTime', 'RealArrivalTime', 'Flight_Type']\n",
    "df.drop(columns=columns_to_drop, inplace=True)"
   ]
  },
  {
   "cell_type": "code",
   "execution_count": 66,
   "id": "7271e30f",
   "metadata": {},
   "outputs": [],
   "source": [
    "# Cleaned dataset \n",
    "\n",
    "df.to_csv(\"Final-data1.csv\", index=False)"
   ]
  },
  {
   "cell_type": "code",
   "execution_count": null,
   "id": "df0b5dfa",
   "metadata": {},
   "outputs": [],
   "source": []
  }
 ],
 "metadata": {
  "kernelspec": {
   "display_name": "Python 3 (ipykernel)",
   "language": "python",
   "name": "python3"
  },
  "language_info": {
   "codemirror_mode": {
    "name": "ipython",
    "version": 3
   },
   "file_extension": ".py",
   "mimetype": "text/x-python",
   "name": "python",
   "nbconvert_exporter": "python",
   "pygments_lexer": "ipython3",
   "version": "3.10.12"
  }
 },
 "nbformat": 4,
 "nbformat_minor": 5
}
